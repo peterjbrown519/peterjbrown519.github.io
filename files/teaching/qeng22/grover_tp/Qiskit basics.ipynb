{
 "cells": [
  {
   "cell_type": "markdown",
   "id": "25b045a1",
   "metadata": {},
   "source": [
    "# Qiskit basics\n",
    "\n",
    "Some basic functions of qiskit to get started quickly. See [qiskit-cheat-sheet](https://github.com/brunorijsman/qiskit-cheat-sheet) for additional functions or the official Qiskit documention."
   ]
  },
  {
   "cell_type": "code",
   "execution_count": 1,
   "id": "7d3b9b62",
   "metadata": {},
   "outputs": [],
   "source": [
    "from qiskit import *\n",
    "from qiskit.visualization import *\n",
    "from math import sqrt\n",
    "import matplotlib"
   ]
  },
  {
   "cell_type": "markdown",
   "id": "157a6625",
   "metadata": {},
   "source": [
    "# Registers and circuits"
   ]
  },
  {
   "cell_type": "code",
   "execution_count": 2,
   "id": "bf3743b2",
   "metadata": {},
   "outputs": [
    {
     "data": {
      "text/html": [
       "<pre style=\"word-wrap: normal;white-space: pre;background: #fff0;line-height: 1.1;font-family: &quot;Courier New&quot;,Courier,monospace\">        \n",
       "a_0: |0>\n",
       "        \n",
       "a_1: |0>\n",
       "        \n",
       "  b: |0>\n",
       "        \n",
       " c_0: 0 \n",
       "        \n",
       " c_1: 0 \n",
       "        \n",
       " c_2: 0 \n",
       "        </pre>"
      ],
      "text/plain": [
       "        \n",
       "a_0: |0>\n",
       "        \n",
       "a_1: |0>\n",
       "        \n",
       "  b: |0>\n",
       "        \n",
       " c_0: 0 \n",
       "        \n",
       " c_1: 0 \n",
       "        \n",
       " c_2: 0 \n",
       "        "
      ]
     },
     "execution_count": 2,
     "metadata": {},
     "output_type": "execute_result"
    }
   ],
   "source": [
    "# We can create different subsystems (or registers)\n",
    "a = QuantumRegister(2, \"a\") # This creates a 2 qubit system A \n",
    "b = QuantumRegister(1, \"b\") # This creates a 1 qubit system B\n",
    "c = ClassicalRegister(3, \"c\") # This creates a classical system of 3 bits\n",
    "\n",
    "# We can then define a quantum circuit object containing the different systems \n",
    "qc = QuantumCircuit(a,b,c)\n",
    "\n",
    "# We can visualize this quantum circuit (although it is empty now)\n",
    "qc.draw(initial_state=True)"
   ]
  },
  {
   "cell_type": "markdown",
   "id": "932e7cb5",
   "metadata": {},
   "source": [
    "Note that you can also define a circuit without defining registers. For example \n",
    "\n",
    "`qc = QuantumCircuit(m, n)`\n",
    "\n",
    "will define a quantum circuit with m qubits an n classical bits."
   ]
  },
  {
   "cell_type": "markdown",
   "id": "d367760f",
   "metadata": {},
   "source": [
    "### Initializing qubits\n",
    "\n",
    "You can change the initial state of the qubits if you want (although we could also do this by adding gates to the circuit). By default qubits are initialized to $|0\\rangle$ and classical bits are initialized to $0$.\n",
    "\n",
    "You can do so via\n",
    "\n",
    "`qc.initialize([r0,r1], k)`\n",
    "\n",
    "This will initialize qubit k (counting from 0) to the state $|\\psi\\rangle = \\begin{pmatrix} r_0 \\\\ r_1 \\end{pmatrix}$."
   ]
  },
  {
   "cell_type": "markdown",
   "id": "29b11e03",
   "metadata": {},
   "source": [
    "# Applying gates\n",
    "\n",
    "Qiskit has a bunch of default gates (list not exhaustive)\n",
    "\n",
    "### Single qubit gates \n",
    "\n",
    "+ `qc.x(k)` applies Pauli X to qubit k\n",
    "+ `qc.y(k)` applies Pauli Y to qubit k\n",
    "+ `qc.z(k)` applies Pauli Z to qubit k\n",
    "+ `qc.h(k)` applies Hadamard gate to qubit k\n",
    "+ `qc.u(t0, t1, t2, k)` applies arbitrary single qubit unitary to qubit k\n",
    "\n",
    "The final gate in that list is \n",
    "$$\n",
    "U(t_0, t_1, t_2) := \\begin{pmatrix} \\cos(\\frac{t_0}{2}) & - e^{i t_2} \\sin(\\frac{t_0}{2}) \\\\\n",
    "e^{i t_1} \\sin(\\frac{t_0}{2}) & e^{i(t_1 + t_2)} \\cos(\\frac{t_0}{2})\n",
    "\\end{pmatrix}\n",
    "$$\n",
    "and we can write any single qubit unitary in this way.\n",
    "\n",
    "### Multi qubit gates\n",
    "\n",
    "Firstly (and probably most importantly) we have the CNOT gate \n",
    "+ `qc.cx(k0, k1)` applies CNOT with control on qubit k0 and target on qubit k1\n",
    "\n",
    "All of the above gates also have controlled versions \n",
    "+ `qc.cy(k0,k1)` applies Pauli Y to qubit k1 controlled on k0\n",
    "+ `qc.cz(k0,k1)` applies Pauli Z to qubit k1 controlled on k0\n",
    "+ `qc.ch(k0,k1)` applies Hadamard gate to qubit k1 controlled on k0\n",
    "+ `qc.cu(t0, t1, t2, k0, k1)` applies arbitrary single qubit unitary to qubit k1 controlled on k0\n",
    "\n",
    "Another interesting two-qubit gate is the swap gate \n",
    "+ `qc.swap(k0,k1)` Swaps qubit k0 and qubit k1\n",
    "\n",
    "You can also control on multiple wires (e.g., `qc.ccx(k0,k1,k2)`) amongst other things. "
   ]
  },
  {
   "cell_type": "code",
   "execution_count": 3,
   "id": "1b486959",
   "metadata": {},
   "outputs": [
    {
     "data": {
      "text/html": [
       "<pre style=\"word-wrap: normal;white-space: pre;background: #fff0;line-height: 1.1;font-family: &quot;Courier New&quot;,Courier,monospace\">     ┌───┐     \n",
       "a_0: ┤ H ├──■──\n",
       "     └───┘┌─┴─┐\n",
       "a_1: ─────┤ X ├\n",
       "          └───┘\n",
       "  b: ──────────\n",
       "               \n",
       "c_0: ══════════\n",
       "               \n",
       "c_1: ══════════\n",
       "               \n",
       "c_2: ══════════\n",
       "               </pre>"
      ],
      "text/plain": [
       "     ┌───┐     \n",
       "a_0: ┤ H ├──■──\n",
       "     └───┘┌─┴─┐\n",
       "a_1: ─────┤ X ├\n",
       "          └───┘\n",
       "  b: ──────────\n",
       "               \n",
       "c_0: ══════════\n",
       "               \n",
       "c_1: ══════════\n",
       "               \n",
       "c_2: ══════════\n",
       "               "
      ]
     },
     "execution_count": 3,
     "metadata": {},
     "output_type": "execute_result"
    }
   ],
   "source": [
    "# We create maximally entangled state on register A \n",
    "\n",
    "# First apply Hadamard\n",
    "qc.h(0)\n",
    "# Then cnot\n",
    "qc.cx(0,1)\n",
    "\n",
    "qc.draw()"
   ]
  },
  {
   "cell_type": "markdown",
   "id": "a40f23b2",
   "metadata": {},
   "source": [
    "# Measuring the qubits\n",
    "\n",
    "We can apply a computational basis measurement to the various qubits and record the outcome in one of the classical bits. For example \n",
    "\n",
    "+ `qc.measure(k,j)` measures qubit k and records the outcome in the classical bit j \n",
    "\n",
    "+ `qc.measure([k0,k1,...], [j0,j1,,,,])` measures the qubit indexes in the first list and records the outcomes in the classical bit indexes of the second list\n",
    "\n",
    "+ `qc.measure(A, C)` measures the qubits in register A and stores them in the classical register c\n",
    "\n",
    "+ `qc.measure_all()` measures all the qubits and creates classical bits to store the outcomes in. "
   ]
  },
  {
   "cell_type": "code",
   "execution_count": 4,
   "id": "697afb2f",
   "metadata": {},
   "outputs": [
    {
     "data": {
      "text/html": [
       "<pre style=\"word-wrap: normal;white-space: pre;background: #fff0;line-height: 1.1;font-family: &quot;Courier New&quot;,Courier,monospace\">     ┌───┐     ┌─┐   \n",
       "a_0: ┤ H ├──■──┤M├───\n",
       "     └───┘┌─┴─┐└╥┘┌─┐\n",
       "a_1: ─────┤ X ├─╫─┤M├\n",
       "          └───┘ ║ └╥┘\n",
       "  b: ───────────╫──╫─\n",
       "                ║  ║ \n",
       "c_0: ═══════════╩══╬═\n",
       "                   ║ \n",
       "c_1: ══════════════╩═\n",
       "                     \n",
       "c_2: ════════════════\n",
       "                     </pre>"
      ],
      "text/plain": [
       "     ┌───┐     ┌─┐   \n",
       "a_0: ┤ H ├──■──┤M├───\n",
       "     └───┘┌─┴─┐└╥┘┌─┐\n",
       "a_1: ─────┤ X ├─╫─┤M├\n",
       "          └───┘ ║ └╥┘\n",
       "  b: ───────────╫──╫─\n",
       "                ║  ║ \n",
       "c_0: ═══════════╩══╬═\n",
       "                   ║ \n",
       "c_1: ══════════════╩═\n",
       "                     \n",
       "c_2: ════════════════\n",
       "                     "
      ]
     },
     "execution_count": 4,
     "metadata": {},
     "output_type": "execute_result"
    }
   ],
   "source": [
    "# For example let's measure the first 2 qubits\n",
    "qc.measure([0,1],[0,1])\n",
    "qc.draw()"
   ]
  },
  {
   "cell_type": "markdown",
   "id": "bb4837fb",
   "metadata": {},
   "source": [
    "# Simulating the circuit\n",
    "\n",
    "We can use the built in simulators to simulate the running of our circuit and check the resulting statistics. "
   ]
  },
  {
   "cell_type": "code",
   "execution_count": 8,
   "id": "ea20f9ee",
   "metadata": {},
   "outputs": [
    {
     "data": {
      "image/png": "[encoded data removed]",
      "text/plain": [
       "<Figure size 700x500 with 1 Axes>"
      ]
     },
     "execution_count": 8,
     "metadata": {},
     "output_type": "execute_result"
    }
   ],
   "source": [
    "# Simulating the execution of the circuit\n",
    "\n",
    "backend = Aer.get_backend(\"qasm_simulator\")\n",
    "result = execute(qc, backend, shots=1024).result()\n",
    "\n",
    "# Visualizing the results\n",
    "counts = result.get_counts()\n",
    "plot_histogram(counts)\n"
   ]
  },
  {
   "cell_type": "markdown",
   "id": "34b2c708",
   "metadata": {},
   "source": [
    "# Executing on real hardware"
   ]
  },
  {
   "cell_type": "code",
   "execution_count": 12,
   "id": "24fd9a58",
   "metadata": {},
   "outputs": [
    {
     "name": "stderr",
     "output_type": "stream",
     "text": [
      "ibmqfactory.load_account:WARNING:2022-10-31 20:56:58,364: Credentials are already in use. The existing account in the session will be replaced.\n"
     ]
    }
   ],
   "source": [
    "# Get backend for experiment\n",
    "\n",
    "# replace TOKEN with your API token string (https://quantum-computing.ibm.com/lab/docs/iql/manage/account/ibmq)\n",
    "# IBMQ.save_account(\"TOKEN\", overwrite=True) \n",
    "provider = IBMQ.load_account()\n",
    "provider = IBMQ.get_provider(hub='ibm-q', group='open', project='main')\n",
    "backend = provider.get_backend('ibmq_quito')\n",
    "\n",
    "# prepare the circuit for the backend\n",
    "new_qc = transpile(qc, backend=backend)\n",
    "\n",
    "# execute the circuit\n",
    "job = backend.run(new_qc, shots=1024)"
   ]
  },
  {
   "cell_type": "code",
   "execution_count": 13,
   "id": "f51484ae",
   "metadata": {},
   "outputs": [
    {
     "data": {
      "text/plain": [
       "<JobStatus.QUEUED: 'job is queued'>"
      ]
     },
     "execution_count": 13,
     "metadata": {},
     "output_type": "execute_result"
    }
   ],
   "source": [
    "job.status()"
   ]
  },
  {
   "cell_type": "code",
   "execution_count": null,
   "id": "064c16fe",
   "metadata": {},
   "outputs": [],
   "source": []
  }
 ],
 "metadata": {
  "kernelspec": {
   "display_name": "Python 3 (ipykernel)",
   "language": "python",
   "name": "python3"
  },
  "language_info": {
   "codemirror_mode": {
    "name": "ipython",
    "version": 3
   },
   "file_extension": ".py",
   "mimetype": "text/x-python",
   "name": "python",
   "nbconvert_exporter": "python",
   "pygments_lexer": "ipython3",
   "version": "3.10.6"
  }
 },
 "nbformat": 4,
 "nbformat_minor": 5
}
