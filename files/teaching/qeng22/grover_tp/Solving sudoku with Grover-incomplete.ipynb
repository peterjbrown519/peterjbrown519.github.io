{
 "cells": [
  {
   "cell_type": "markdown",
   "id": "253bd621",
   "metadata": {},
   "source": [
    "## Solving sudoku with Grover\n",
    "We will now try to use Grover's algorithm to solve a (very simple) Sudoku. The purpose of this exercise is to understand the role of the **oracle** in Grover's algorithm and how it can be built. \n",
    "\n",
    "To make things simple we only consider a binary Sudoku on a 2x2 grid\n",
    "$$\n",
    "\\begin{bmatrix} x_{00} & x_{01} \\\\ x_{10} & x_{11} \\end{bmatrix}\n",
    "$$\n",
    "where $x_{ij} \\in \\{0,1\\}$. We say $(x_{00}, x_{01}, x_{10}, x_{11})$ is a valid solution if in each row and column there are no repetitions. I.e.,\n",
    "+ $x_{00} \\neq x_{01}$ \n",
    "+ $x_{00} \\neq x_{10}$\n",
    "+ $x_{01} \\neq x_{11}$\n",
    "+ $x_{10} \\neq x_{11}$\n",
    "\n",
    "We want to use Grover's algorithm to search for solutions to the above problem. We can do so by assigning a qubit to each $x_{ij}$. We then need an oracle that applies a phase whenever the above conditions are not met! Your task is to design that oracle and then use Grover's algorithm to find a solution. "
   ]
  },
  {
   "cell_type": "markdown",
   "id": "d1b30b4b",
   "metadata": {},
   "source": [
    "### Designing the oracle\n",
    "\n",
    "In the following cell complete the code to create a new gate which serves as a oracle to this problem. Note that:\n",
    "+ You will need additional qubits for the phase kickback and to check the conditions are met. \n",
    "\n",
    "Thus you will have 3 registers:\n",
    "+ A 4 qubit register $|x\\rangle$ that stores the sudoku bits $|x_{00} x_{01} x_{10} x_{11}\\rangle$.\n",
    "+ A k qubit register $|0\\rangle$ which you can use to compute whether the sudoku register satisfies the relevant constraints.\n",
    "+ A 1 qubit register $|-\\rangle$ which you use to give a phase kickback if *all* the conditions are satisfied\n",
    "\n",
    "You then should construct a unitary $U$ that has the action\n",
    "$$\n",
    "U |x\\rangle |0\\rangle |-\\rangle = \\begin{cases} -|x\\rangle |0\\rangle |-\\rangle \\quad & \\text{ if $x$ is a valid Sudoku solution} \\\\ |x\\rangle |0\\rangle |-\\rangle \\quad & \\text{ otherwise} \\end{cases}.\n",
    "$$\n",
    "Note that you may need to \"uncompute\" the check registers to get them back to state $|0\\rangle$. **Question: why is this necessary?**"
   ]
  },
  {
   "cell_type": "code",
   "execution_count": 5,
   "id": "0a1a1a2f",
   "metadata": {},
   "outputs": [
    {
     "ename": "SyntaxError",
     "evalue": "invalid syntax. Perhaps you forgot a comma? (1347302633.py, line 6)",
     "output_type": "error",
     "traceback": [
      "\u001b[0;36m  Input \u001b[0;32mIn [5]\u001b[0;36m\u001b[0m\n\u001b[0;31m    check_qubits = QuantumRegister(NUMBER OF CHECK BITS YOU WANT HERE, name='check') # Stores the parity checks\u001b[0m\n\u001b[0m                                   ^\u001b[0m\n\u001b[0;31mSyntaxError\u001b[0m\u001b[0;31m:\u001b[0m invalid syntax. Perhaps you forgot a comma?\n"
     ]
    }
   ],
   "source": [
    "from qiskit.visualization import *\n",
    "from qiskit import QuantumRegister, QuantumCircuit, Aer, execute, ClassicalRegister\n",
    "\n",
    "# First we define the different registers \n",
    "sudoku_qubits = QuantumRegister(4, name='sudoku') # Stores the potential solution of the sudoku\n",
    "check_qubits = QuantumRegister(NUMBER OF CHECK BITS YOU WANT HERE, name='check') # Stores the parity checks \n",
    "phase_qubit = QuantumRegister(1, name='phase') # Qubit used for phase kickback\n",
    "measurement_results = ClassicalRegister(4, name='cbits')\n",
    "\n",
    "\n",
    "# The circuit on which we will build the gates\n",
    "oracle_circuit = QuantumCircuit(sudoku_qubits, check_qubits, phase_qubit)\n",
    "##########################################################\n",
    "# In this section build the quantum circuit that acts as the oracle\n",
    "\n",
    "\n",
    "\n",
    "###############################################################\n",
    "# Turning the Oracle cicuit into a gate\n",
    "oracle = oracle_circuit.to_gate(label='oracle')\n",
    "oracle_circuit.draw('mpl')"
   ]
  },
  {
   "cell_type": "markdown",
   "id": "d07c06f7",
   "metadata": {},
   "source": [
    "## Applying it to Grover's algorithm\n",
    "\n",
    "Now you have the oracle gate you should be able to construct the Grover iterate and solve the problem. Let's do that!\n",
    "\n",
    "### Constructing the grover iterate"
   ]
  },
  {
   "cell_type": "code",
   "execution_count": 7,
   "id": "216776d1",
   "metadata": {},
   "outputs": [
    {
     "ename": "NameError",
     "evalue": "name 'QuantumCircuit' is not defined",
     "output_type": "error",
     "traceback": [
      "\u001b[0;31m---------------------------------------------------------------------------\u001b[0m",
      "\u001b[0;31mNameError\u001b[0m                                 Traceback (most recent call last)",
      "Input \u001b[0;32mIn [7]\u001b[0m, in \u001b[0;36m<cell line: 2>\u001b[0;34m()\u001b[0m\n\u001b[1;32m      1\u001b[0m \u001b[38;5;66;03m# We define a new cicuit which we will turn into a gate\u001b[39;00m\n\u001b[0;32m----> 2\u001b[0m iterate_circuit \u001b[38;5;241m=\u001b[39m \u001b[43mQuantumCircuit\u001b[49m(sudoku_qubits, check_qubits, phase_qubit)\n\u001b[1;32m      3\u001b[0m \u001b[38;5;66;03m########################################################################\u001b[39;00m\n\u001b[1;32m      4\u001b[0m \u001b[38;5;66;03m# Like in the previous notebook construct the Grover iterate here with the oracle and R gate\u001b[39;00m\n\u001b[1;32m      6\u001b[0m iterate \u001b[38;5;241m=\u001b[39m iterate_circuit\u001b[38;5;241m.\u001b[39mto_gate(label\u001b[38;5;241m=\u001b[39m\u001b[38;5;124m'\u001b[39m\u001b[38;5;124mR gate\u001b[39m\u001b[38;5;124m'\u001b[39m)\n",
      "\u001b[0;31mNameError\u001b[0m: name 'QuantumCircuit' is not defined"
     ]
    }
   ],
   "source": [
    "# We define a new cicuit which we will turn into a gate\n",
    "iterate_circuit = QuantumCircuit(sudoku_qubits, check_qubits, phase_qubit)\n",
    "########################################################################\n",
    "# Like in the previous notebook construct the Grover iterate here with the oracle and R gate\n",
    "\n",
    "\n",
    "\n",
    "\n",
    "\n",
    "\n",
    "\n",
    "\n",
    "###############################################################\n",
    "# Turning the iterate into a gate\n",
    "iterate = iterate_circuit.to_gate(label='R gate')\n",
    "iterate_circuit.draw('mpl')"
   ]
  },
  {
   "cell_type": "markdown",
   "id": "ffab7a4e",
   "metadata": {},
   "source": [
    "### Putting it all together\n",
    "\n",
    "Like in the Grover algorithm demonstration we will check the performance for different numbers of iterations"
   ]
  },
  {
   "cell_type": "code",
   "execution_count": 3,
   "id": "dbea0afe",
   "metadata": {},
   "outputs": [
    {
     "ename": "NameError",
     "evalue": "name 'QuantumCircuit' is not defined",
     "output_type": "error",
     "traceback": [
      "\u001b[0;31m---------------------------------------------------------------------------\u001b[0m",
      "\u001b[0;31mNameError\u001b[0m                                 Traceback (most recent call last)",
      "Input \u001b[0;32mIn [3]\u001b[0m, in \u001b[0;36m<cell line: 3>\u001b[0;34m()\u001b[0m\n\u001b[1;32m      1\u001b[0m \u001b[38;5;66;03m# Build a list of circuits whose index gives the number of times the iterate is applied\u001b[39;00m\n\u001b[1;32m      2\u001b[0m ncircuits \u001b[38;5;241m=\u001b[39m \u001b[38;5;241m4\u001b[39m\n\u001b[0;32m----> 3\u001b[0m grover_circuits \u001b[38;5;241m=\u001b[39m [QuantumCircuit(sudoku_qubits, check_qubits, phase_qubit, measurement_results) \u001b[38;5;28;01mfor\u001b[39;00m _ \u001b[38;5;129;01min\u001b[39;00m \u001b[38;5;28mrange\u001b[39m(ncircuits)]\n\u001b[1;32m      5\u001b[0m \u001b[38;5;66;03m# now we build each circuit\u001b[39;00m\n\u001b[1;32m      6\u001b[0m \u001b[38;5;28;01mfor\u001b[39;00m k \u001b[38;5;129;01min\u001b[39;00m \u001b[38;5;28mrange\u001b[39m(ncircuits):\n\u001b[1;32m      7\u001b[0m     \u001b[38;5;66;03m# Apply the initial Hadamards\u001b[39;00m\n",
      "Input \u001b[0;32mIn [3]\u001b[0m, in \u001b[0;36m<listcomp>\u001b[0;34m(.0)\u001b[0m\n\u001b[1;32m      1\u001b[0m \u001b[38;5;66;03m# Build a list of circuits whose index gives the number of times the iterate is applied\u001b[39;00m\n\u001b[1;32m      2\u001b[0m ncircuits \u001b[38;5;241m=\u001b[39m \u001b[38;5;241m4\u001b[39m\n\u001b[0;32m----> 3\u001b[0m grover_circuits \u001b[38;5;241m=\u001b[39m [\u001b[43mQuantumCircuit\u001b[49m(sudoku_qubits, check_qubits, phase_qubit, measurement_results) \u001b[38;5;28;01mfor\u001b[39;00m _ \u001b[38;5;129;01min\u001b[39;00m \u001b[38;5;28mrange\u001b[39m(ncircuits)]\n\u001b[1;32m      5\u001b[0m \u001b[38;5;66;03m# now we build each circuit\u001b[39;00m\n\u001b[1;32m      6\u001b[0m \u001b[38;5;28;01mfor\u001b[39;00m k \u001b[38;5;129;01min\u001b[39;00m \u001b[38;5;28mrange\u001b[39m(ncircuits):\n\u001b[1;32m      7\u001b[0m     \u001b[38;5;66;03m# Apply the initial Hadamards\u001b[39;00m\n",
      "\u001b[0;31mNameError\u001b[0m: name 'QuantumCircuit' is not defined"
     ]
    }
   ],
   "source": [
    "# Build a list of circuits whose index gives the number of times the iterate is applied\n",
    "ncircuits = 4\n",
    "grover_circuits = [QuantumCircuit(sudoku_qubits, check_qubits, phase_qubit, measurement_results) for _ in range(ncircuits)]\n",
    "####################################################################\n",
    "# Like in the previous notebook let's build a list of circuits with different numbers of iterations\n",
    "# Remember to set the initial qubits up correctly\n",
    "\n",
    "\n",
    "\n",
    "\n",
    "\n",
    "\n",
    "\n",
    "\n",
    "###################################################################\n",
    "# Can check it has worked\n",
    "grover_circuits[2].draw('mpl')"
   ]
  },
  {
   "cell_type": "code",
   "execution_count": 4,
   "id": "cefeb4ec",
   "metadata": {},
   "outputs": [
    {
     "ename": "NameError",
     "evalue": "name 'Aer' is not defined",
     "output_type": "error",
     "traceback": [
      "\u001b[0;31m---------------------------------------------------------------------------\u001b[0m",
      "\u001b[0;31mNameError\u001b[0m                                 Traceback (most recent call last)",
      "Input \u001b[0;32mIn [4]\u001b[0m, in \u001b[0;36m<cell line: 2>\u001b[0;34m()\u001b[0m\n\u001b[1;32m      1\u001b[0m \u001b[38;5;66;03m# Now let's run the circuits on a simulator\u001b[39;00m\n\u001b[0;32m----> 2\u001b[0m backend \u001b[38;5;241m=\u001b[39m \u001b[43mAer\u001b[49m\u001b[38;5;241m.\u001b[39mget_backend(\u001b[38;5;124m\"\u001b[39m\u001b[38;5;124mqasm_simulator\u001b[39m\u001b[38;5;124m\"\u001b[39m)\n\u001b[1;32m      4\u001b[0m \u001b[38;5;66;03m# run each of the circuits\u001b[39;00m\n\u001b[1;32m      5\u001b[0m results \u001b[38;5;241m=\u001b[39m [execute(grover_circuits[k], backend, shots\u001b[38;5;241m=\u001b[39m\u001b[38;5;241m1024\u001b[39m)\u001b[38;5;241m.\u001b[39mresult() \u001b[38;5;28;01mfor\u001b[39;00m k \u001b[38;5;129;01min\u001b[39;00m \u001b[38;5;28mrange\u001b[39m(ncircuits)]\n",
      "\u001b[0;31mNameError\u001b[0m: name 'Aer' is not defined"
     ]
    }
   ],
   "source": [
    "# Now let's run the circuits on a simulator\n",
    "backend = Aer.get_backend(\"qasm_simulator\")\n",
    "\n",
    "# run each of the circuits\n",
    "results = [execute(grover_circuits[k], backend, shots=1024).result() for k in range(ncircuits)]\n",
    "counts = [result.get_counts() for result in results]\n",
    "histograms = [plot_histogram(count) for count in counts]\n",
    "\n",
    "for k in range(ncircuits):\n",
    "    histograms[k].savefig('sudoku_' + str(k) + '.jpg')"
   ]
  },
  {
   "cell_type": "markdown",
   "id": "796c9740",
   "metadata": {},
   "source": [
    "**0 iterates** ![](sudoku_0.jpg)\n",
    "**1 iterates** ![](sudoku_1.jpg)\n",
    "**2 iterates** ![](sudoku_2.jpg)\n",
    "**3 iterates** ![](sudoku_3.jpg)"
   ]
  },
  {
   "cell_type": "markdown",
   "id": "e6e1135f",
   "metadata": {},
   "source": [
    "# Bonus challenge\n",
    "\n",
    "Normally sudokus will have digits already filled in so that the solution is unique. If I tell you that $x_{00} = 0$, how do you modify the above algorithm to take this into account (you can keep your current oracle)?"
   ]
  },
  {
   "cell_type": "code",
   "execution_count": 11,
   "id": "ed4ac398",
   "metadata": {},
   "outputs": [],
   "source": [
    "#####################################################################\n",
    "# Redesign the above circuit so that you take into account x_{00} = 0\n",
    "# Note this should be possible without changing the number of qubits or the oracle\n",
    "\n",
    "\n",
    "\n",
    "\n",
    "\n",
    "#####################################################################"
   ]
  },
  {
   "cell_type": "code",
   "execution_count": 9,
   "id": "303e6b0d",
   "metadata": {},
   "outputs": [
    {
     "ename": "NameError",
     "evalue": "name 'QuantumCircuit' is not defined",
     "output_type": "error",
     "traceback": [
      "\u001b[0;31m---------------------------------------------------------------------------\u001b[0m",
      "\u001b[0;31mNameError\u001b[0m                                 Traceback (most recent call last)",
      "Input \u001b[0;32mIn [9]\u001b[0m, in \u001b[0;36m<cell line: 3>\u001b[0;34m()\u001b[0m\n\u001b[1;32m      1\u001b[0m \u001b[38;5;66;03m# Build a list of circuits whose index gives the number of times the iterate is applied\u001b[39;00m\n\u001b[1;32m      2\u001b[0m ncircuits \u001b[38;5;241m=\u001b[39m \u001b[38;5;241m4\u001b[39m\n\u001b[0;32m----> 3\u001b[0m grover_circuits2 \u001b[38;5;241m=\u001b[39m [QuantumCircuit(sudoku_qubits, check_qubits, phase_qubit, measurement_results) \u001b[38;5;28;01mfor\u001b[39;00m _ \u001b[38;5;129;01min\u001b[39;00m \u001b[38;5;28mrange\u001b[39m(ncircuits)]\n\u001b[1;32m      4\u001b[0m \u001b[38;5;66;03m###################################################\u001b[39;00m\n\u001b[1;32m      5\u001b[0m \u001b[38;5;66;03m# As before build different circuits with different numbers of iterations so we can compare them \u001b[39;00m\n\u001b[1;32m      6\u001b[0m \n\u001b[0;32m   (...)\u001b[0m\n\u001b[1;32m     11\u001b[0m \u001b[38;5;66;03m#######################################################\u001b[39;00m\n\u001b[1;32m     12\u001b[0m \u001b[38;5;66;03m# Can check it has worked\u001b[39;00m\n\u001b[1;32m     13\u001b[0m grover_circuits2[\u001b[38;5;241m2\u001b[39m]\u001b[38;5;241m.\u001b[39mdraw(\u001b[38;5;124m'\u001b[39m\u001b[38;5;124mmpl\u001b[39m\u001b[38;5;124m'\u001b[39m)\n",
      "Input \u001b[0;32mIn [9]\u001b[0m, in \u001b[0;36m<listcomp>\u001b[0;34m(.0)\u001b[0m\n\u001b[1;32m      1\u001b[0m \u001b[38;5;66;03m# Build a list of circuits whose index gives the number of times the iterate is applied\u001b[39;00m\n\u001b[1;32m      2\u001b[0m ncircuits \u001b[38;5;241m=\u001b[39m \u001b[38;5;241m4\u001b[39m\n\u001b[0;32m----> 3\u001b[0m grover_circuits2 \u001b[38;5;241m=\u001b[39m [\u001b[43mQuantumCircuit\u001b[49m(sudoku_qubits, check_qubits, phase_qubit, measurement_results) \u001b[38;5;28;01mfor\u001b[39;00m _ \u001b[38;5;129;01min\u001b[39;00m \u001b[38;5;28mrange\u001b[39m(ncircuits)]\n\u001b[1;32m      4\u001b[0m \u001b[38;5;66;03m###################################################\u001b[39;00m\n\u001b[1;32m      5\u001b[0m \u001b[38;5;66;03m# As before build different circuits with different numbers of iterations so we can compare them \u001b[39;00m\n\u001b[1;32m      6\u001b[0m \n\u001b[0;32m   (...)\u001b[0m\n\u001b[1;32m     11\u001b[0m \u001b[38;5;66;03m#######################################################\u001b[39;00m\n\u001b[1;32m     12\u001b[0m \u001b[38;5;66;03m# Can check it has worked\u001b[39;00m\n\u001b[1;32m     13\u001b[0m grover_circuits2[\u001b[38;5;241m2\u001b[39m]\u001b[38;5;241m.\u001b[39mdraw(\u001b[38;5;124m'\u001b[39m\u001b[38;5;124mmpl\u001b[39m\u001b[38;5;124m'\u001b[39m)\n",
      "\u001b[0;31mNameError\u001b[0m: name 'QuantumCircuit' is not defined"
     ]
    }
   ],
   "source": [
    "# Build a list of circuits whose index gives the number of times the iterate is applied\n",
    "ncircuits = 4\n",
    "grover_circuits2 = [QuantumCircuit(sudoku_qubits, check_qubits, phase_qubit, measurement_results) for _ in range(ncircuits)]\n",
    "###################################################\n",
    "# As before build different circuits with different numbers of iterations so we can compare them \n",
    "\n",
    "\n",
    "\n",
    "\n",
    "\n",
    "#######################################################\n",
    "# Can check it has worked\n",
    "grover_circuits2[2].draw('mpl')"
   ]
  },
  {
   "cell_type": "code",
   "execution_count": 12,
   "id": "573bffa4",
   "metadata": {},
   "outputs": [
    {
     "ename": "NameError",
     "evalue": "name 'Aer' is not defined",
     "output_type": "error",
     "traceback": [
      "\u001b[0;31m---------------------------------------------------------------------------\u001b[0m",
      "\u001b[0;31mNameError\u001b[0m                                 Traceback (most recent call last)",
      "Input \u001b[0;32mIn [12]\u001b[0m, in \u001b[0;36m<cell line: 2>\u001b[0;34m()\u001b[0m\n\u001b[1;32m      1\u001b[0m \u001b[38;5;66;03m# Now let's run the circuits on a simulator\u001b[39;00m\n\u001b[0;32m----> 2\u001b[0m backend \u001b[38;5;241m=\u001b[39m \u001b[43mAer\u001b[49m\u001b[38;5;241m.\u001b[39mget_backend(\u001b[38;5;124m\"\u001b[39m\u001b[38;5;124mqasm_simulator\u001b[39m\u001b[38;5;124m\"\u001b[39m)\n\u001b[1;32m      4\u001b[0m \u001b[38;5;66;03m# run each of the circuits\u001b[39;00m\n\u001b[1;32m      5\u001b[0m results2 \u001b[38;5;241m=\u001b[39m [execute(grover_circuits2[k], backend, shots\u001b[38;5;241m=\u001b[39m\u001b[38;5;241m1024\u001b[39m)\u001b[38;5;241m.\u001b[39mresult() \u001b[38;5;28;01mfor\u001b[39;00m k \u001b[38;5;129;01min\u001b[39;00m \u001b[38;5;28mrange\u001b[39m(ncircuits)]\n",
      "\u001b[0;31mNameError\u001b[0m: name 'Aer' is not defined"
     ]
    }
   ],
   "source": [
    "# Now let's run the circuits on a simulator\n",
    "backend = Aer.get_backend(\"qasm_simulator\")\n",
    "\n",
    "# run each of the circuits\n",
    "results2 = [execute(grover_circuits2[k], backend, shots=1024).result() for k in range(ncircuits)]\n",
    "counts2 = [result.get_counts() for result in results2]\n",
    "histograms2 = [plot_histogram(count) for count in counts2]\n",
    "\n",
    "for k in range(ncircuits):\n",
    "    histograms2[k].savefig('sudoku2_' + str(k) + '.jpg')"
   ]
  },
  {
   "cell_type": "markdown",
   "id": "9aafce76",
   "metadata": {},
   "source": [
    "**0 iterates** ![](sudoku2_0.jpg)\n",
    "**1 iterates** ![](sudoku2_1.jpg)\n",
    "**2 iterates** ![](sudoku2_2.jpg)\n",
    "**3 iterates** ![](sudoku2_3.jpg)\n",
    "**4 iterates** ![](sudoku2_4.jpg)\n",
    "**5 iterates** ![](sudoku2_5.jpg)\n",
    "**6 iterates** ![](sudoku2_6.jpg)\n",
    "**7 iterates** ![](sudoku2_7.jpg)\n",
    "**8 iterates** ![](sudoku2_8.jpg)\n",
    "**9 iterates** ![](sudoku2_9.jpg)\n",
    "**10 iterates** ![](sudoku2_10.jpg)\n"
   ]
  },
  {
   "cell_type": "code",
   "execution_count": null,
   "id": "7fffbecd",
   "metadata": {},
   "outputs": [],
   "source": []
  }
 ],
 "metadata": {
  "kernelspec": {
   "display_name": "Python 3 (ipykernel)",
   "language": "python",
   "name": "python3"
  },
  "language_info": {
   "codemirror_mode": {
    "name": "ipython",
    "version": 3
   },
   "file_extension": ".py",
   "mimetype": "text/x-python",
   "name": "python",
   "nbconvert_exporter": "python",
   "pygments_lexer": "ipython3",
   "version": "3.10.6"
  }
 },
 "nbformat": 4,
 "nbformat_minor": 5
}
